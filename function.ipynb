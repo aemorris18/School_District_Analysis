{
 "cells": [
  {
   "cell_type": "code",
   "execution_count": 1,
   "id": "a0e74a3e",
   "metadata": {},
   "outputs": [],
   "source": [
    "#Define the function \"say_hello\" so it prints \"Hello!\" when called"
   ]
  },
  {
   "cell_type": "code",
   "execution_count": 2,
   "id": "8f943c71",
   "metadata": {},
   "outputs": [],
   "source": [
    "def say_hello():\n",
    "    print(\"Hello!\")"
   ]
  },
  {
   "cell_type": "code",
   "execution_count": 3,
   "id": "f8d3390a",
   "metadata": {},
   "outputs": [],
   "source": [
    "#Call the function"
   ]
  },
  {
   "cell_type": "code",
   "execution_count": 4,
   "id": "9bd5332a",
   "metadata": {},
   "outputs": [
    {
     "name": "stdout",
     "output_type": "stream",
     "text": [
      "Hello!\n"
     ]
    }
   ],
   "source": [
    "say_hello()"
   ]
  },
  {
   "cell_type": "code",
   "execution_count": 5,
   "id": "ccb13b98",
   "metadata": {},
   "outputs": [],
   "source": [
    "# Define the function \"say_something\" so it prints whatever is passed as the variable when called."
   ]
  },
  {
   "cell_type": "code",
   "execution_count": 6,
   "id": "17a3cb2d",
   "metadata": {},
   "outputs": [],
   "source": [
    "def say_something(something):\n",
    "    print(something)"
   ]
  },
  {
   "cell_type": "code",
   "execution_count": 7,
   "id": "532f5bc7",
   "metadata": {},
   "outputs": [],
   "source": [
    "#Call the function"
   ]
  },
  {
   "cell_type": "code",
   "execution_count": 8,
   "id": "972a26ec",
   "metadata": {},
   "outputs": [
    {
     "name": "stdout",
     "output_type": "stream",
     "text": [
      "Hello World\n"
     ]
    }
   ],
   "source": [
    "say_something(\"Hello World\")\n"
   ]
  },
  {
   "cell_type": "code",
   "execution_count": 9,
   "id": "24830234",
   "metadata": {},
   "outputs": [],
   "source": [
    "# A list of my grades."
   ]
  },
  {
   "cell_type": "code",
   "execution_count": 10,
   "id": "30224cd3",
   "metadata": {},
   "outputs": [],
   "source": [
    "my_grades = ['B', 'C', 'B' , 'D']"
   ]
  },
  {
   "cell_type": "code",
   "execution_count": 11,
   "id": "bea7b7a4",
   "metadata": {},
   "outputs": [],
   "source": [
    "# Import pandas."
   ]
  },
  {
   "cell_type": "code",
   "execution_count": 12,
   "id": "bf80a4c7",
   "metadata": {},
   "outputs": [],
   "source": [
    "import pandas as pd"
   ]
  },
  {
   "cell_type": "code",
   "execution_count": 13,
   "id": "c192d636",
   "metadata": {},
   "outputs": [],
   "source": [
    "# Convert the my_grades to a Series"
   ]
  },
  {
   "cell_type": "code",
   "execution_count": 15,
   "id": "3186ba44",
   "metadata": {},
   "outputs": [
    {
     "data": {
      "text/plain": [
       "0    B\n",
       "1    C\n",
       "2    B\n",
       "3    D\n",
       "dtype: object"
      ]
     },
     "execution_count": 15,
     "metadata": {},
     "output_type": "execute_result"
    }
   ],
   "source": [
    "my_grades = pd.Series(my_grades)\n",
    "my_grades"
   ]
  },
  {
   "cell_type": "code",
   "execution_count": 16,
   "id": "73cad61e",
   "metadata": {},
   "outputs": [],
   "source": [
    "# Change the grades by one letter grade."
   ]
  },
  {
   "cell_type": "code",
   "execution_count": 17,
   "id": "9be0b0b9",
   "metadata": {},
   "outputs": [
    {
     "data": {
      "text/plain": [
       "0    A\n",
       "1    B\n",
       "2    A\n",
       "3    C\n",
       "dtype: object"
      ]
     },
     "execution_count": 17,
     "metadata": {},
     "output_type": "execute_result"
    }
   ],
   "source": [
    "my_grades.map({'B': 'A', 'C': 'B', 'D': 'C'})"
   ]
  },
  {
   "cell_type": "code",
   "execution_count": 18,
   "id": "2285fbf6",
   "metadata": {},
   "outputs": [],
   "source": [
    "# Using the format() function."
   ]
  },
  {
   "cell_type": "code",
   "execution_count": 20,
   "id": "5ace79e0",
   "metadata": {},
   "outputs": [
    {
     "name": "stdout",
     "output_type": "stream",
     "text": [
      "92\n",
      "85\n",
      "87\n",
      "98\n"
     ]
    }
   ],
   "source": [
    "my_grades = [92.34, 84.56, 86.78, 98.32]\n",
    "\n",
    "for grade in my_grades:\n",
    "    print(\"{:.0f}\".format(grade))"
   ]
  },
  {
   "cell_type": "code",
   "execution_count": 21,
   "id": "1d44ca5f",
   "metadata": {},
   "outputs": [],
   "source": [
    "# Convert the numerical grades to a Series."
   ]
  },
  {
   "cell_type": "code",
   "execution_count": 22,
   "id": "45cac505",
   "metadata": {},
   "outputs": [
    {
     "data": {
      "text/plain": [
       "0    92.34\n",
       "1    84.56\n",
       "2    86.78\n",
       "3    78.32\n",
       "dtype: float64"
      ]
     },
     "execution_count": 22,
     "metadata": {},
     "output_type": "execute_result"
    }
   ],
   "source": [
    "my_grades = pd.Series([92.34, 84.56, 86.78, 78.32])\n",
    "my_grades"
   ]
  },
  {
   "cell_type": "code",
   "execution_count": 23,
   "id": "e68a35d1",
   "metadata": {},
   "outputs": [],
   "source": [
    "# Format the grades to the nearest whole number percent."
   ]
  },
  {
   "cell_type": "code",
   "execution_count": 24,
   "id": "bf8a7ad0",
   "metadata": {},
   "outputs": [
    {
     "data": {
      "text/plain": [
       "0    92\n",
       "1    85\n",
       "2    87\n",
       "3    78\n",
       "dtype: object"
      ]
     },
     "execution_count": 24,
     "metadata": {},
     "output_type": "execute_result"
    }
   ],
   "source": [
    "my_grades.map(\"{:.0f}\".format)"
   ]
  },
  {
   "cell_type": "code",
   "execution_count": null,
   "id": "1295f18c",
   "metadata": {},
   "outputs": [],
   "source": []
  }
 ],
 "metadata": {
  "kernelspec": {
   "display_name": "PythonData",
   "language": "python",
   "name": "pythondata"
  },
  "language_info": {
   "codemirror_mode": {
    "name": "ipython",
    "version": 3
   },
   "file_extension": ".py",
   "mimetype": "text/x-python",
   "name": "python",
   "nbconvert_exporter": "python",
   "pygments_lexer": "ipython3",
   "version": "3.9.12"
  }
 },
 "nbformat": 4,
 "nbformat_minor": 5
}
